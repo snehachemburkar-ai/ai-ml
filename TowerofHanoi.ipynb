
#Create a condition on x1, x2 and x where print True if x is on the line joining x1 and x2\n",
    def compare(x1,x2,x):\n",
    if((x1<=x and x2>=x) or (x2<=x and x1>=x)):\n",
        print(\"true\")\n",
    else:\n",
       print(\"false\")"

compare(1,-1,0)
compare(-5,-6,1)
compare(4,8,6)
compare(-3,3,-1)
compare(0,0,0)
compare(1,0,-1)

#Q: Two lines x1 --> x2 and x3 --> x4, print True, if overlapping or touching otherwise print False\n",
def overlap(x1,x2,x3,x4):\n",
if(x1<=x3 or x1>=x4) or (x2<=x3 or x2>=x4):
   print(\"True\")
else:
   print(\"False\")

overlap(1,2,2,-5)
overlap(2,1,2,5)
overlap(1,3,2,5)
overlap(1,-3,0,5)
overlap(3,-3,1,-5)


def swap(a1,a2):\n",
    temp=a2\n",
    final=a1\n",
    final=[a1,a2]\n",
    print(final)"

swap(5,3)"

