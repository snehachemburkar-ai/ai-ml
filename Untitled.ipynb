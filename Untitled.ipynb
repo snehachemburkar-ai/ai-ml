{
 "cells": [
  {
   "cell_type": "code",
   "execution_count": 1,
   "id": "e1b60c2b-49f2-4020-b2fd-7c70225ac855",
   "metadata": {},
   "outputs": [],
   "source": [
    "#Create a condition on x1, x2 and x where print True if x is on the line joining x1 and x2\n",
    "def compare(x1,x2,x):\n",
    "  if((x1<=x and x2>=x) or (x2<=x and x1>=x)):\n",
    "    print(\"true\")\n",
    "  else:\n",
    "    print(\"false\")"
   ]
  },
  {
   "cell_type": "code",
   "execution_count": 4,
   "id": "9deb5ff9-6e7b-475a-8842-458aa53f8d47",
   "metadata": {},
   "outputs": [
    {
     "name": "stdout",
     "output_type": "stream",
     "text": [
      "true\n",
      "false\n",
      "true\n",
      "true\n",
      "true\n",
      "false\n"
     ]
    }
   ],
   "source": [
    "compare(1,-1,0)\n",
    "compare(-5,-6,1)\n",
    "compare(4,8,6)\n",
    "compare(-3,3,-1)\n",
    "compare(0,0,0)\n",
    "compare(1,0,-1)"
   ]
  },
  {
   "cell_type": "code",
   "execution_count": null,
   "id": "1c4763d9-3682-4243-ba03-d5040bdcaa39",
   "metadata": {},
   "outputs": [],
   "source": []
  }
 ],
 "metadata": {
  "kernelspec": {
   "display_name": "Python 3 (ipykernel)",
   "language": "python",
   "name": "python3"
  },
  "language_info": {
   "codemirror_mode": {
    "name": "ipython",
    "version": 3
   },
   "file_extension": ".py",
   "mimetype": "text/x-python",
   "name": "python",
   "nbconvert_exporter": "python",
   "pygments_lexer": "ipython3",
   "version": "3.13.1"
  }
 },
 "nbformat": 4,
 "nbformat_minor": 5
}
